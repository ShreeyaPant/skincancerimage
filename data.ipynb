{
 "cells": [
  {
   "cell_type": "code",
   "execution_count": 7,
   "id": "a7e21ba8",
   "metadata": {},
   "outputs": [],
   "source": [
    "# Preparing test and train datas for each category of cancer"
   ]
  },
  {
   "cell_type": "code",
   "execution_count": 8,
   "id": "fa719080",
   "metadata": {},
   "outputs": [],
   "source": [
    "import pandas as pd"
   ]
  },
  {
   "cell_type": "code",
   "execution_count": 9,
   "id": "a5b5d3eb",
   "metadata": {},
   "outputs": [],
   "source": [
    "df =pd.read_csv('C:\\\\Users\\\\Asus\\\\Desktop\\\\archive\\\\ISIC_2019_Training_GroundTruth.csv')"
   ]
  },
  {
   "cell_type": "code",
   "execution_count": 10,
   "id": "56254a9c",
   "metadata": {
    "scrolled": true
   },
   "outputs": [
    {
     "data": {
      "text/html": [
       "<div>\n",
       "<style scoped>\n",
       "    .dataframe tbody tr th:only-of-type {\n",
       "        vertical-align: middle;\n",
       "    }\n",
       "\n",
       "    .dataframe tbody tr th {\n",
       "        vertical-align: top;\n",
       "    }\n",
       "\n",
       "    .dataframe thead th {\n",
       "        text-align: right;\n",
       "    }\n",
       "</style>\n",
       "<table border=\"1\" class=\"dataframe\">\n",
       "  <thead>\n",
       "    <tr style=\"text-align: right;\">\n",
       "      <th></th>\n",
       "      <th>image</th>\n",
       "      <th>MEL</th>\n",
       "      <th>NV</th>\n",
       "      <th>BCC</th>\n",
       "      <th>AK</th>\n",
       "      <th>BKL</th>\n",
       "      <th>DF</th>\n",
       "      <th>VASC</th>\n",
       "      <th>SCC</th>\n",
       "      <th>UNK</th>\n",
       "    </tr>\n",
       "  </thead>\n",
       "  <tbody>\n",
       "    <tr>\n",
       "      <th>0</th>\n",
       "      <td>ISIC_0000000</td>\n",
       "      <td>0.0</td>\n",
       "      <td>1.0</td>\n",
       "      <td>0.0</td>\n",
       "      <td>0.0</td>\n",
       "      <td>0.0</td>\n",
       "      <td>0.0</td>\n",
       "      <td>0.0</td>\n",
       "      <td>0.0</td>\n",
       "      <td>0.0</td>\n",
       "    </tr>\n",
       "    <tr>\n",
       "      <th>1</th>\n",
       "      <td>ISIC_0000001</td>\n",
       "      <td>0.0</td>\n",
       "      <td>1.0</td>\n",
       "      <td>0.0</td>\n",
       "      <td>0.0</td>\n",
       "      <td>0.0</td>\n",
       "      <td>0.0</td>\n",
       "      <td>0.0</td>\n",
       "      <td>0.0</td>\n",
       "      <td>0.0</td>\n",
       "    </tr>\n",
       "    <tr>\n",
       "      <th>2</th>\n",
       "      <td>ISIC_0000002</td>\n",
       "      <td>1.0</td>\n",
       "      <td>0.0</td>\n",
       "      <td>0.0</td>\n",
       "      <td>0.0</td>\n",
       "      <td>0.0</td>\n",
       "      <td>0.0</td>\n",
       "      <td>0.0</td>\n",
       "      <td>0.0</td>\n",
       "      <td>0.0</td>\n",
       "    </tr>\n",
       "    <tr>\n",
       "      <th>3</th>\n",
       "      <td>ISIC_0000003</td>\n",
       "      <td>0.0</td>\n",
       "      <td>1.0</td>\n",
       "      <td>0.0</td>\n",
       "      <td>0.0</td>\n",
       "      <td>0.0</td>\n",
       "      <td>0.0</td>\n",
       "      <td>0.0</td>\n",
       "      <td>0.0</td>\n",
       "      <td>0.0</td>\n",
       "    </tr>\n",
       "    <tr>\n",
       "      <th>4</th>\n",
       "      <td>ISIC_0000004</td>\n",
       "      <td>1.0</td>\n",
       "      <td>0.0</td>\n",
       "      <td>0.0</td>\n",
       "      <td>0.0</td>\n",
       "      <td>0.0</td>\n",
       "      <td>0.0</td>\n",
       "      <td>0.0</td>\n",
       "      <td>0.0</td>\n",
       "      <td>0.0</td>\n",
       "    </tr>\n",
       "  </tbody>\n",
       "</table>\n",
       "</div>"
      ],
      "text/plain": [
       "          image  MEL   NV  BCC   AK  BKL   DF  VASC  SCC  UNK\n",
       "0  ISIC_0000000  0.0  1.0  0.0  0.0  0.0  0.0   0.0  0.0  0.0\n",
       "1  ISIC_0000001  0.0  1.0  0.0  0.0  0.0  0.0   0.0  0.0  0.0\n",
       "2  ISIC_0000002  1.0  0.0  0.0  0.0  0.0  0.0   0.0  0.0  0.0\n",
       "3  ISIC_0000003  0.0  1.0  0.0  0.0  0.0  0.0   0.0  0.0  0.0\n",
       "4  ISIC_0000004  1.0  0.0  0.0  0.0  0.0  0.0   0.0  0.0  0.0"
      ]
     },
     "execution_count": 10,
     "metadata": {},
     "output_type": "execute_result"
    }
   ],
   "source": [
    "df.head()"
   ]
  },
  {
   "cell_type": "code",
   "execution_count": 11,
   "id": "17728b6c",
   "metadata": {},
   "outputs": [
    {
     "data": {
      "text/plain": [
       "4522"
      ]
     },
     "execution_count": 11,
     "metadata": {},
     "output_type": "execute_result"
    }
   ],
   "source": [
    "melanoma_list=df[df['MEL']==1.0]['image'].tolist()\n",
    "len(melanoma_list)"
   ]
  },
  {
   "cell_type": "code",
   "execution_count": 12,
   "id": "fac72af1",
   "metadata": {},
   "outputs": [
    {
     "name": "stdout",
     "output_type": "stream",
     "text": [
      "melanoma_ISIC_0000002.jpg\n"
     ]
    },
    {
     "ename": "FileNotFoundError",
     "evalue": "[Errno 2] No such file or directory: 'C:/Users/Asus/Desktop/archive/ISIC_2019_Training_Input/Melanoma/melanoma_ISIC_0000002.jpg'",
     "output_type": "error",
     "traceback": [
      "\u001b[1;31m---------------------------------------------------------------------------\u001b[0m",
      "\u001b[1;31mFileNotFoundError\u001b[0m                         Traceback (most recent call last)",
      "Cell \u001b[1;32mIn[12], line 14\u001b[0m\n\u001b[0;32m     12\u001b[0m file\u001b[38;5;241m=\u001b[39m\u001b[38;5;124m\"\u001b[39m\u001b[38;5;124mmelanoma_\u001b[39m\u001b[38;5;124m\"\u001b[39m \u001b[38;5;241m+\u001b[39m \u001b[38;5;28mstr\u001b[39m(f)\n\u001b[0;32m     13\u001b[0m \u001b[38;5;28mprint\u001b[39m(file)\n\u001b[1;32m---> 14\u001b[0m shutil\u001b[38;5;241m.\u001b[39mcopy(source \u001b[38;5;241m+\u001b[39m f, destination \u001b[38;5;241m+\u001b[39m file)\n",
      "File \u001b[1;32mC:\\ProgramData\\anaconda3\\Lib\\shutil.py:419\u001b[0m, in \u001b[0;36mcopy\u001b[1;34m(src, dst, follow_symlinks)\u001b[0m\n\u001b[0;32m    417\u001b[0m \u001b[38;5;28;01mif\u001b[39;00m os\u001b[38;5;241m.\u001b[39mpath\u001b[38;5;241m.\u001b[39misdir(dst):\n\u001b[0;32m    418\u001b[0m     dst \u001b[38;5;241m=\u001b[39m os\u001b[38;5;241m.\u001b[39mpath\u001b[38;5;241m.\u001b[39mjoin(dst, os\u001b[38;5;241m.\u001b[39mpath\u001b[38;5;241m.\u001b[39mbasename(src))\n\u001b[1;32m--> 419\u001b[0m copyfile(src, dst, follow_symlinks\u001b[38;5;241m=\u001b[39mfollow_symlinks)\n\u001b[0;32m    420\u001b[0m copymode(src, dst, follow_symlinks\u001b[38;5;241m=\u001b[39mfollow_symlinks)\n\u001b[0;32m    421\u001b[0m \u001b[38;5;28;01mreturn\u001b[39;00m dst\n",
      "File \u001b[1;32mC:\\ProgramData\\anaconda3\\Lib\\shutil.py:258\u001b[0m, in \u001b[0;36mcopyfile\u001b[1;34m(src, dst, follow_symlinks)\u001b[0m\n\u001b[0;32m    256\u001b[0m \u001b[38;5;28;01mwith\u001b[39;00m \u001b[38;5;28mopen\u001b[39m(src, \u001b[38;5;124m'\u001b[39m\u001b[38;5;124mrb\u001b[39m\u001b[38;5;124m'\u001b[39m) \u001b[38;5;28;01mas\u001b[39;00m fsrc:\n\u001b[0;32m    257\u001b[0m     \u001b[38;5;28;01mtry\u001b[39;00m:\n\u001b[1;32m--> 258\u001b[0m         \u001b[38;5;28;01mwith\u001b[39;00m \u001b[38;5;28mopen\u001b[39m(dst, \u001b[38;5;124m'\u001b[39m\u001b[38;5;124mwb\u001b[39m\u001b[38;5;124m'\u001b[39m) \u001b[38;5;28;01mas\u001b[39;00m fdst:\n\u001b[0;32m    259\u001b[0m             \u001b[38;5;66;03m# macOS\u001b[39;00m\n\u001b[0;32m    260\u001b[0m             \u001b[38;5;28;01mif\u001b[39;00m _HAS_FCOPYFILE:\n\u001b[0;32m    261\u001b[0m                 \u001b[38;5;28;01mtry\u001b[39;00m:\n",
      "\u001b[1;31mFileNotFoundError\u001b[0m: [Errno 2] No such file or directory: 'C:/Users/Asus/Desktop/archive/ISIC_2019_Training_Input/Melanoma/melanoma_ISIC_0000002.jpg'"
     ]
    }
   ],
   "source": [
    "import os\n",
    "import shutil\n",
    "  \n",
    "source = 'C:/Users/Asus/Desktop/archive/ISIC_2019_Training_Input/ISIC_2019_Training_Input/'\n",
    "destination = 'C:/Users/Asus/Desktop/archive/ISIC_2019_Training_Input/Melanoma/'\n",
    "  \n",
    "allfiles = os.listdir(source)\n",
    "  \n",
    "for f in allfiles:\n",
    "    m=f.split('.')[0]\n",
    "    if m in melanoma_list:\n",
    "        file=\"melanoma_\" + str(f)\n",
    "        print(file)\n",
    "        shutil.copy(source + f, destination + file)\n",
    "         "
   ]
  },
  {
   "cell_type": "code",
   "execution_count": null,
   "id": "fab32201",
   "metadata": {},
   "outputs": [],
   "source": [
    "dfnv = df[df['NV']==1.0]\n",
    "dfnv=dfnv.head(4500)\n",
    "dfnv.shape"
   ]
  },
  {
   "cell_type": "code",
   "execution_count": null,
   "id": "a875f2b6",
   "metadata": {},
   "outputs": [],
   "source": [
    "Melanocytic_nevi_list=dfnv['image'].tolist()\n",
    "len(Melanocytic_nevi_list)"
   ]
  },
  {
   "cell_type": "code",
   "execution_count": null,
   "id": "65340fe3",
   "metadata": {
    "scrolled": false
   },
   "outputs": [],
   "source": [
    "import os\n",
    "import shutil\n",
    "  \n",
    "source = 'C:/Users/Asus/Desktop/archive/ISIC_2019_Training_Input/ISIC_2019_Training_Input/'\n",
    "destination = 'C:/Users/Asus/Desktop/archive/ISIC_2019_Training_Input/MelanocyticNevi/'\n",
    "  \n",
    "allfiles = os.listdir(source)\n",
    "  \n",
    "for f in allfiles:\n",
    "    m=f.split('.')[0]\n",
    "    if m in Melanocytic_nevi_list:\n",
    "        file=\"melanocytic_nevi_\" + str(f)\n",
    "        print(file)\n",
    "        shutil.copy(source + f, destination + file)\n",
    "         "
   ]
  },
  {
   "cell_type": "code",
   "execution_count": null,
   "id": "cf4bc11f",
   "metadata": {},
   "outputs": [],
   "source": [
    "basalcell_list=df[df['BCC']==1.0]['image'].tolist()\n",
    "len(basalcell_list)"
   ]
  },
  {
   "cell_type": "code",
   "execution_count": null,
   "id": "fa13936f",
   "metadata": {},
   "outputs": [],
   "source": [
    "source = 'C:/Users/Asus/Desktop/archive/ISIC_2019_Training_Input/ISIC_2019_Training_Input/'\n",
    "destination = 'C:/Users/Asus/Desktop/archive/ISIC_2019_Training_Input/BasalCellCarcinoma/'\n",
    "  \n",
    "allfiles = os.listdir(source)\n",
    "  \n",
    "for f in allfiles:\n",
    "    m=f.split('.')[0]\n",
    "    if m in basalcell_list:\n",
    "        file=\"basalcell_\" + str(f)\n",
    "        print(file)\n",
    "        shutil.copy(source + f, destination + file)"
   ]
  },
  {
   "cell_type": "code",
   "execution_count": null,
   "id": "09d52219",
   "metadata": {},
   "outputs": [],
   "source": [
    "actinickeratosis_list=df[df['AK']==1.0]['image'].tolist()\n",
    "len(actinickeratosis_list)"
   ]
  },
  {
   "cell_type": "code",
   "execution_count": null,
   "id": "8c1fe7ed",
   "metadata": {},
   "outputs": [],
   "source": [
    "source = 'C:/Users/Asus/Desktop/archive/ISIC_2019_Training_Input/ISIC_2019_Training_Input/'\n",
    "destination = 'C:/Users/Asus/Desktop/archive/ISIC_2019_Training_Input/ActinicKeratosis/'\n",
    "  \n",
    "allfiles = os.listdir(source)\n",
    "  \n",
    "for f in allfiles:\n",
    "    m=f.split('.')[0]\n",
    "    if m in actinickeratosis_list:\n",
    "        file=\"acnitickeratosis_\" + str(f)\n",
    "        print(file)\n",
    "        shutil.copy(source + f, destination + file)"
   ]
  },
  {
   "cell_type": "code",
   "execution_count": null,
   "id": "fd0ffd24",
   "metadata": {},
   "outputs": [],
   "source": [
    "benignkeratosis_list=df[df['BKL']==1.0]['image'].tolist()\n",
    "len(benignkeratosis_list)"
   ]
  },
  {
   "cell_type": "code",
   "execution_count": null,
   "id": "6ac3348d",
   "metadata": {},
   "outputs": [],
   "source": [
    "source = 'C:/Users/Asus/Desktop/archive/ISIC_2019_Training_Input/ISIC_2019_Training_Input/'\n",
    "destination = 'C:/Users/Asus/Desktop/archive/ISIC_2019_Training_Input/BenignKeratosis/'\n",
    "  \n",
    "allfiles = os.listdir(source)\n",
    "  \n",
    "for f in allfiles:\n",
    "    m=f.split('.')[0]\n",
    "    if m in benignkeratosis_list:\n",
    "        file=\"benignkeratosis_\" + str(f)\n",
    "        print(file)\n",
    "        shutil.copy(source + f, destination + file)"
   ]
  },
  {
   "cell_type": "code",
   "execution_count": null,
   "id": "55c3d64b",
   "metadata": {},
   "outputs": [],
   "source": [
    "dermatofibroma_list=df[df['DF']==1.0]['image'].tolist()\n",
    "len(dermatofibroma_list)"
   ]
  },
  {
   "cell_type": "code",
   "execution_count": null,
   "id": "2316e41b",
   "metadata": {},
   "outputs": [],
   "source": [
    "source = 'C:/Users/Asus/Desktop/archive/ISIC_2019_Training_Input/ISIC_2019_Training_Input/'\n",
    "destination = 'C:/Users/Asus/Desktop/archive/ISIC_2019_Training_Input/Dermatofibroma/'\n",
    "  \n",
    "allfiles = os.listdir(source)\n",
    "  \n",
    "for f in allfiles:\n",
    "    m=f.split('.')[0]\n",
    "    if m in dermatofibroma_list:\n",
    "        file=\"dermatofibroma_\" + str(f)\n",
    "        print(file)\n",
    "        shutil.copy(source + f, destination + file)"
   ]
  },
  {
   "cell_type": "code",
   "execution_count": null,
   "id": "a5495bad",
   "metadata": {},
   "outputs": [],
   "source": [
    "squamouscell_list=df[df['SCC']==1.0]['image'].tolist()\n",
    "len(squamouscell_list)"
   ]
  },
  {
   "cell_type": "code",
   "execution_count": null,
   "id": "072e4618",
   "metadata": {},
   "outputs": [],
   "source": [
    "source = 'C:/Users/Asus/Desktop/archive/ISIC_2019_Training_Input/ISIC_2019_Training_Input/'\n",
    "destination = 'C:/Users/Asus/Desktop/archive/ISIC_2019_Training_Input/SquamousCellCarcinoma/'\n",
    "  \n",
    "allfiles = os.listdir(source)\n",
    "  \n",
    "for f in allfiles:\n",
    "    m=f.split('.')[0]\n",
    "    if m in squamouscell_list:\n",
    "        file=\"squamouscell_\" + str(f)\n",
    "        print(file)\n",
    "        shutil.copy(source + f, destination + file)"
   ]
  },
  {
   "cell_type": "code",
   "execution_count": null,
   "id": "cf0d78e7",
   "metadata": {},
   "outputs": [],
   "source": [
    "vascular_list=df[df['VASC']==1.0]['image'].tolist()\n",
    "len(vascular_list)"
   ]
  },
  {
   "cell_type": "code",
   "execution_count": null,
   "id": "48e1510a",
   "metadata": {},
   "outputs": [],
   "source": [
    "source = 'C:/Users/Asus/Desktop/archive/ISIC_2019_Training_Input/ISIC_2019_Training_Input/'\n",
    "destination = 'C:/Users/Asus/Desktop/archive/ISIC_2019_Training_Input/VascularLesion/'\n",
    "  \n",
    "allfiles = os.listdir(source)\n",
    "  \n",
    "for f in allfiles:\n",
    "    m=f.split('.')[0]\n",
    "    if m in vascular_list:\n",
    "        file=\"vascular_\" + str(f)\n",
    "        print(file)\n",
    "        shutil.copy(source + f, destination + file)"
   ]
  },
  {
   "cell_type": "code",
   "execution_count": null,
   "id": "5b344049",
   "metadata": {},
   "outputs": [],
   "source": []
  },
  {
   "cell_type": "code",
   "execution_count": null,
   "id": "f67d7e08",
   "metadata": {},
   "outputs": [],
   "source": []
  },
  {
   "cell_type": "code",
   "execution_count": null,
   "id": "7436a58f",
   "metadata": {},
   "outputs": [],
   "source": []
  }
 ],
 "metadata": {
  "kernelspec": {
   "display_name": "Python 3 (ipykernel)",
   "language": "python",
   "name": "python3"
  },
  "language_info": {
   "codemirror_mode": {
    "name": "ipython",
    "version": 3
   },
   "file_extension": ".py",
   "mimetype": "text/x-python",
   "name": "python",
   "nbconvert_exporter": "python",
   "pygments_lexer": "ipython3",
   "version": "3.11.5"
  }
 },
 "nbformat": 4,
 "nbformat_minor": 5
}
